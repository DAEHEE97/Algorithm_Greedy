{
 "cells": [
  {
   "cell_type": "markdown",
   "id": "4bb71415",
   "metadata": {},
   "source": [
    "# 모험가 길드_Greedy\n",
    "\n",
    "\n",
    "- 최대 그룹 수\n",
    "\n",
    "한 마을에 모험가가 N명 있습니다. \n",
    "\n",
    "모험가 길드에서는 N명의 모험가를 대상으로 '공포도'를 측정했는데,'공포도'가 높은 모험가는 쉽게 공포를 느껴 위험 상황에서 제대로 대처할 능력이 떨어집니다. \n",
    "\n",
    "모험가 길드장인 동빈이는 모험가 그룹을 안전하게 구성하고자 공포도가 X인 모험가는 반드시 X명 이상으로구성한 모험가 그룹에 참여해야 여행을 떠날 수 있도록 규정했습니다. \n",
    "\n",
    "동빈이는 최대 몇 개의 모험가 그룹을 만들 수 있는지 궁금합니다.\n",
    "\n",
    "\n",
    "N명의 모험가에 대한 정보가 주어졌을 때, 여행을 떠날 수 있는 그룹 수의 최댓값을 구하는 프로그램을 작성하세요.\n",
    "\n",
    "예를 들어, N = 5이고, 각 모험가의 공포도가 다음과 같다고 가정합시다.\n",
    "\n",
    "2 3 1 2 2 = 1 2 2 2 3\n",
    "\n",
    "---\n",
    "\n",
    "이 경우 그룹 1에 공포도가 1,2,3인 모험가를 한 명씩 넣고, 그룹 2에 공포도가 2인 남은 두 명을 넣게 되면 총 2개의 그룹을 만들 수 있습니다. \n",
    "\n",
    "또한 몇 명의 모험가는 마을에 그대로 남아 있어도 되기 때문에, 모든 모험가를 특정한 그룹에 넣을 필요는 없습니다.\n",
    "\n",
    "최대 그룹 수 = 1, 2 2 떠나는 경우"
   ]
  },
  {
   "cell_type": "markdown",
   "id": "0be5cdab",
   "metadata": {},
   "source": [
    "---"
   ]
  },
  {
   "cell_type": "markdown",
   "id": "a8f89394",
   "metadata": {},
   "source": [
    "\n",
    "## 해결 아이디어 - 모험가 길드\n",
    "\n",
    "- 규칙성 앞에서 부터 공포도를 하니씩 확인하여, '현재 그룹에 포함된 모험가의 수'가 '현재 확인하고 있는 공포도' 보다 크거나 같다면 이를 그룹으로 설정\n",
    "\n",
    "\n",
    "- 공포도가 X인 모험가는 반드시 X명 이상 으로 구성한 모험가 그룹에 참여해야 여행을 떠날 수 있다.\n",
    "\n",
    "- 전원 안 데려가도 됨\n",
    "\n",
    "\n",
    "\n",
    "\n",
    "1 2 2 2 3\n",
    "\n",
    "- 1 / 2 2\n",
    "\n",
    "1 2 3 3 3\n",
    "\n",
    "- 1 / 2 3 3 \n",
    "\n",
    "1 1 2 2 3\n",
    "\n",
    "- 1 / 1 / 2 2\n",
    "\n",
    "1 1 2 3 3 3 \n",
    "\n",
    "- 1 / 1 / 2 3 3 \n"
   ]
  },
  {
   "cell_type": "markdown",
   "id": "95505663",
   "metadata": {},
   "source": [
    "---"
   ]
  },
  {
   "cell_type": "markdown",
   "id": "14261b58",
   "metadata": {},
   "source": [
    "## src"
   ]
  },
  {
   "cell_type": "code",
   "execution_count": 1,
   "id": "374ad041",
   "metadata": {},
   "outputs": [
    {
     "name": "stdout",
     "output_type": "stream",
     "text": [
      "5\n",
      "1 1 2 3 3\n",
      "3\n"
     ]
    }
   ],
   "source": [
    "n = int(input())\n",
    "\n",
    "lst = list(map(int, input().split()))\n",
    "lst.sort() \n",
    "\n",
    "score = 0\n",
    "cnt = 0\n",
    "ans = 0\n",
    "\n",
    "\n",
    "\n",
    "# 리스트에서 공포도가 더 큰 값이 나온다면, 그 사람을 기준으로 그룹을 생성해야함, 우선순위 설정\n",
    "# ex) 2 다음 3이 나오면, 그룹은 3 기준으로 생성 해야함 \n",
    "\n",
    "for i in range(len(lst)):\n",
    "        \n",
    "    score = max(score,lst[i]) \n",
    "        \n",
    "    cnt += 1 # 현재 인원 \n",
    "    \n",
    "    if cnt >= score:\n",
    "        ans += 1\n",
    "        cnt = 0\n",
    "            \n",
    "\n",
    "print(ans)   "
   ]
  },
  {
   "cell_type": "markdown",
   "id": "954e5446",
   "metadata": {},
   "source": [
    "---"
   ]
  },
  {
   "cell_type": "markdown",
   "id": "dc557291",
   "metadata": {},
   "source": [
    "- max 처리를 할필요가 겂음. 이미 정렬을 해놨기 때문에, \n",
    "- '현재 그룹에 포함된 모험가의 수' 가 '현재의 공포도' 이상이라면, 그룹 생성\n",
    "    - 이때 '현재의 공포도' 자체가 오름차순으로 정렬 되어 있는 상태이며, 이것이 그룹 생성 기준"
   ]
  },
  {
   "cell_type": "code",
   "execution_count": 2,
   "id": "fa5155fd",
   "metadata": {},
   "outputs": [
    {
     "name": "stdout",
     "output_type": "stream",
     "text": [
      "5\n",
      "1 2 2 2 2\n",
      "3\n"
     ]
    }
   ],
   "source": [
    "n = int(input())\n",
    "\n",
    "lst = list(map(int, input().split()))\n",
    "lst.sort() \n",
    "\n",
    "cnt = 0\n",
    "ans = 0\n",
    "\n",
    "for i in range(len(lst)):\n",
    "        \n",
    "    cnt += 1 # 현재 인원 \n",
    "    \n",
    "    if cnt >= lst[i]:\n",
    "        ans += 1\n",
    "        cnt = 0\n",
    "        \n",
    "print(ans)"
   ]
  }
 ],
 "metadata": {
  "kernelspec": {
   "display_name": "Python 3 (ipykernel)",
   "language": "python",
   "name": "python3"
  },
  "language_info": {
   "codemirror_mode": {
    "name": "ipython",
    "version": 3
   },
   "file_extension": ".py",
   "mimetype": "text/x-python",
   "name": "python",
   "nbconvert_exporter": "python",
   "pygments_lexer": "ipython3",
   "version": "3.8.16"
  },
  "toc": {
   "base_numbering": 1,
   "nav_menu": {},
   "number_sections": true,
   "sideBar": true,
   "skip_h1_title": false,
   "title_cell": "Table of Contents",
   "title_sidebar": "Contents",
   "toc_cell": false,
   "toc_position": {},
   "toc_section_display": true,
   "toc_window_display": false
  },
  "varInspector": {
   "cols": {
    "lenName": 16,
    "lenType": 16,
    "lenVar": 40
   },
   "kernels_config": {
    "python": {
     "delete_cmd_postfix": "",
     "delete_cmd_prefix": "del ",
     "library": "var_list.py",
     "varRefreshCmd": "print(var_dic_list())"
    },
    "r": {
     "delete_cmd_postfix": ") ",
     "delete_cmd_prefix": "rm(",
     "library": "var_list.r",
     "varRefreshCmd": "cat(var_dic_list()) "
    }
   },
   "types_to_exclude": [
    "module",
    "function",
    "builtin_function_or_method",
    "instance",
    "_Feature"
   ],
   "window_display": false
  }
 },
 "nbformat": 4,
 "nbformat_minor": 5
}
