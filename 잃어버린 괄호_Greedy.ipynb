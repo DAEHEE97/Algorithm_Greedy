{
 "cells": [
  {
   "cell_type": "markdown",
   "id": "2ef186a3",
   "metadata": {},
   "source": [
    "# 잃어버린 괄호_Greedy\n",
    "\n",
    "- https://www.acmicpc.net/problem/1541"
   ]
  },
  {
   "cell_type": "markdown",
   "id": "92eb887e",
   "metadata": {},
   "source": [
    "세준이는 양수와 +, -, 그리고 괄호를 가지고 식을 만들었다. 그리고 나서 세준이는 괄호를 모두 지웠다.\n",
    "\n",
    "그리고 나서 세준이는 괄호를 적절히 쳐서 이 식의 값을 최소로 만들려고 한다.\n",
    "\n",
    "괄호를 적절히 쳐서 이 식의 값을 최소로 만드는 프로그램을 작성하시오.\n",
    "\n",
    "## 입력\n",
    "첫째 줄에 식이 주어진다. 식은 ‘0’~‘9’, ‘+’, 그리고 ‘-’만으로 이루어져 있고, 가장 처음과 마지막 문자는 숫자이다. 그리고 연속해서 두 개 이상의 연산자가 나타나지 않고, 5자리보다 많이 연속되는 숫자는 없다. 수는 0으로 시작할 수 있다. 입력으로 주어지는 식의 길이는 50보다 작거나 같다.\n",
    "\n",
    "## 출력\n",
    "첫째 줄에 정답을 출력한다."
   ]
  },
  {
   "cell_type": "markdown",
   "id": "8e5293c7",
   "metadata": {},
   "source": [
    "최솟값 만들려면\n",
    "\n",
    "- 부분을 최대한 크게 만들어야함\n",
    "\n",
    "- `-` 를 찾아서 다음 -까지 "
   ]
  },
  {
   "cell_type": "markdown",
   "id": "0541143f",
   "metadata": {},
   "source": [
    "55-50+40 = 55 - (50+40)\n",
    "\n",
    "55-50+40-30 = 55 - (55+40) - (30)"
   ]
  },
  {
   "cell_type": "code",
   "execution_count": 91,
   "id": "000945f6",
   "metadata": {},
   "outputs": [],
   "source": [
    "string = '0009-0009'"
   ]
  },
  {
   "cell_type": "code",
   "execution_count": 90,
   "id": "54b10af1",
   "metadata": {},
   "outputs": [],
   "source": [
    "string = '55-50+40'"
   ]
  },
  {
   "cell_type": "code",
   "execution_count": 92,
   "id": "fde3807d",
   "metadata": {},
   "outputs": [
    {
     "data": {
      "text/plain": [
       "['0009', '0009']"
      ]
     },
     "execution_count": 92,
     "metadata": {},
     "output_type": "execute_result"
    }
   ],
   "source": [
    "string.split('-')"
   ]
  },
  {
   "cell_type": "code",
   "execution_count": 86,
   "id": "c38b8f6e",
   "metadata": {},
   "outputs": [],
   "source": [
    "string = '55-50+40-30'"
   ]
  },
  {
   "cell_type": "code",
   "execution_count": 87,
   "id": "96ba00b1",
   "metadata": {},
   "outputs": [
    {
     "data": {
      "text/plain": [
       "['55', '50+40', '30']"
      ]
     },
     "execution_count": 87,
     "metadata": {},
     "output_type": "execute_result"
    }
   ],
   "source": [
    "string.split('-')"
   ]
  },
  {
   "cell_type": "code",
   "execution_count": 88,
   "id": "06a393fa",
   "metadata": {},
   "outputs": [
    {
     "ename": "ValueError",
     "evalue": "invalid literal for int() with base 10: '50+40'",
     "output_type": "error",
     "traceback": [
      "\u001b[0;31m---------------------------------------------------------------------------\u001b[0m",
      "\u001b[0;31mValueError\u001b[0m                                Traceback (most recent call last)",
      "Cell \u001b[0;32mIn[88], line 1\u001b[0m\n\u001b[0;32m----> 1\u001b[0m \u001b[38;5;28;43mint\u001b[39;49m\u001b[43m(\u001b[49m\u001b[38;5;124;43m'\u001b[39;49m\u001b[38;5;124;43m50+40\u001b[39;49m\u001b[38;5;124;43m'\u001b[39;49m\u001b[43m)\u001b[49m\n",
      "\u001b[0;31mValueError\u001b[0m: invalid literal for int() with base 10: '50+40'"
     ]
    }
   ],
   "source": [
    "int('50+40')"
   ]
  },
  {
   "cell_type": "code",
   "execution_count": 9,
   "id": "24d495b5",
   "metadata": {},
   "outputs": [],
   "source": [
    "string = '-55-(50+40)'"
   ]
  },
  {
   "cell_type": "code",
   "execution_count": 10,
   "id": "87659160",
   "metadata": {},
   "outputs": [
    {
     "data": {
      "text/plain": [
       "-145"
      ]
     },
     "execution_count": 10,
     "metadata": {},
     "output_type": "execute_result"
    }
   ],
   "source": [
    "eval(string)"
   ]
  },
  {
   "cell_type": "code",
   "execution_count": null,
   "id": "b0dbd93e",
   "metadata": {},
   "outputs": [],
   "source": []
  },
  {
   "cell_type": "code",
   "execution_count": null,
   "id": "18ff51d2",
   "metadata": {},
   "outputs": [],
   "source": []
  },
  {
   "cell_type": "code",
   "execution_count": 11,
   "id": "6e0417cb",
   "metadata": {},
   "outputs": [
    {
     "data": {
      "text/plain": [
       "'-55-(50+40)'"
      ]
     },
     "execution_count": 11,
     "metadata": {},
     "output_type": "execute_result"
    }
   ],
   "source": [
    "string"
   ]
  },
  {
   "cell_type": "code",
   "execution_count": 6,
   "id": "50c53937",
   "metadata": {},
   "outputs": [
    {
     "data": {
      "text/plain": [
       "15"
      ]
     },
     "execution_count": 6,
     "metadata": {},
     "output_type": "execute_result"
    }
   ],
   "source": [
    "eval(string)"
   ]
  },
  {
   "cell_type": "code",
   "execution_count": 5,
   "id": "8279858e",
   "metadata": {},
   "outputs": [
    {
     "ename": "ValueError",
     "evalue": "invalid literal for int() with base 10: '55-50+40-30'",
     "output_type": "error",
     "traceback": [
      "\u001b[0;31m---------------------------------------------------------------------------\u001b[0m",
      "\u001b[0;31mValueError\u001b[0m                                Traceback (most recent call last)",
      "Cell \u001b[0;32mIn[5], line 1\u001b[0m\n\u001b[0;32m----> 1\u001b[0m \u001b[38;5;28;43mint\u001b[39;49m\u001b[43m(\u001b[49m\u001b[43mstring\u001b[49m\u001b[43m)\u001b[49m\n",
      "\u001b[0;31mValueError\u001b[0m: invalid literal for int() with base 10: '55-50+40-30'"
     ]
    }
   ],
   "source": [
    "int(string)"
   ]
  },
  {
   "cell_type": "code",
   "execution_count": 77,
   "id": "2a06b87d",
   "metadata": {},
   "outputs": [
    {
     "name": "stdout",
     "output_type": "stream",
     "text": [
      "9-00009\n"
     ]
    }
   ],
   "source": [
    "string = input()"
   ]
  },
  {
   "cell_type": "code",
   "execution_count": 78,
   "id": "f8d0c374",
   "metadata": {},
   "outputs": [],
   "source": [
    "lst = list(string)"
   ]
  },
  {
   "cell_type": "code",
   "execution_count": 79,
   "id": "64ae89b2",
   "metadata": {},
   "outputs": [],
   "source": [
    "\n",
    "flag = 0\n",
    "\n",
    "\n",
    "\n",
    "for i in range(len(lst)):\n",
    "    \n",
    "\n",
    "    \n",
    "    if flag == 0 and lst[i] == '-':\n",
    "        lst.insert( i+1, '(' )\n",
    "        flag = 1\n",
    "        \n",
    "    elif flag == 1 and lst[i] == '-':\n",
    "        lst.insert( i, ')' )\n",
    "        flag = 0\n",
    "    \n",
    "        \n",
    "        \n",
    "        "
   ]
  },
  {
   "cell_type": "code",
   "execution_count": 80,
   "id": "22511917",
   "metadata": {},
   "outputs": [
    {
     "data": {
      "text/plain": [
       "['9', '-', '(', '0', '0', '0', '0', '9']"
      ]
     },
     "execution_count": 80,
     "metadata": {},
     "output_type": "execute_result"
    }
   ],
   "source": [
    "lst"
   ]
  },
  {
   "cell_type": "code",
   "execution_count": 81,
   "id": "72e6cb0a",
   "metadata": {},
   "outputs": [],
   "source": [
    "lst.append(')')\n",
    "s =''.join(lst)"
   ]
  },
  {
   "cell_type": "code",
   "execution_count": 82,
   "id": "84efc109",
   "metadata": {},
   "outputs": [
    {
     "data": {
      "text/plain": [
       "'9-(00009)'"
      ]
     },
     "execution_count": 82,
     "metadata": {},
     "output_type": "execute_result"
    }
   ],
   "source": [
    "s"
   ]
  },
  {
   "cell_type": "code",
   "execution_count": 83,
   "id": "03326739",
   "metadata": {},
   "outputs": [
    {
     "ename": "SyntaxError",
     "evalue": "leading zeros in decimal integer literals are not permitted; use an 0o prefix for octal integers (<string>, line 1)",
     "output_type": "error",
     "traceback": [
      "Traceback \u001b[0;36m(most recent call last)\u001b[0m:\n",
      "\u001b[0m  File \u001b[1;32m~/anaconda3/envs/boostcourse/lib/python3.8/site-packages/IPython/core/interactiveshell.py:3508\u001b[0m in \u001b[1;35mrun_code\u001b[0m\n    exec(code_obj, self.user_global_ns, self.user_ns)\u001b[0m\n",
      "\u001b[0;36m  Cell \u001b[0;32mIn[83], line 1\u001b[0;36m\n\u001b[0;31m    eval(s)\u001b[0;36m\n",
      "\u001b[0;36m  File \u001b[0;32m<string>:1\u001b[0;36m\u001b[0m\n\u001b[0;31m    9-(00009)\u001b[0m\n\u001b[0m           ^\u001b[0m\n\u001b[0;31mSyntaxError\u001b[0m\u001b[0;31m:\u001b[0m leading zeros in decimal integer literals are not permitted; use an 0o prefix for octal integers\n"
     ]
    }
   ],
   "source": [
    "eval(s)"
   ]
  },
  {
   "cell_type": "markdown",
   "id": "0081cccc",
   "metadata": {},
   "source": [
    "---"
   ]
  },
  {
   "cell_type": "markdown",
   "id": "101c0589",
   "metadata": {},
   "source": [
    "int('00009') - int('00009')"
   ]
  },
  {
   "cell_type": "markdown",
   "id": "193a6263",
   "metadata": {},
   "source": [
    "00009"
   ]
  }
 ],
 "metadata": {
  "kernelspec": {
   "display_name": "Python 3 (ipykernel)",
   "language": "python",
   "name": "python3"
  },
  "language_info": {
   "codemirror_mode": {
    "name": "ipython",
    "version": 3
   },
   "file_extension": ".py",
   "mimetype": "text/x-python",
   "name": "python",
   "nbconvert_exporter": "python",
   "pygments_lexer": "ipython3",
   "version": "3.8.16"
  },
  "toc": {
   "base_numbering": 1,
   "nav_menu": {},
   "number_sections": true,
   "sideBar": true,
   "skip_h1_title": false,
   "title_cell": "Table of Contents",
   "title_sidebar": "Contents",
   "toc_cell": false,
   "toc_position": {},
   "toc_section_display": true,
   "toc_window_display": false
  },
  "varInspector": {
   "cols": {
    "lenName": 16,
    "lenType": 16,
    "lenVar": 40
   },
   "kernels_config": {
    "python": {
     "delete_cmd_postfix": "",
     "delete_cmd_prefix": "del ",
     "library": "var_list.py",
     "varRefreshCmd": "print(var_dic_list())"
    },
    "r": {
     "delete_cmd_postfix": ") ",
     "delete_cmd_prefix": "rm(",
     "library": "var_list.r",
     "varRefreshCmd": "cat(var_dic_list()) "
    }
   },
   "types_to_exclude": [
    "module",
    "function",
    "builtin_function_or_method",
    "instance",
    "_Feature"
   ],
   "window_display": false
  }
 },
 "nbformat": 4,
 "nbformat_minor": 5
}
