{
 "cells": [
  {
   "cell_type": "markdown",
   "id": "2bc4a989",
   "metadata": {},
   "source": [
    "# 회의실 배정_Greedy\n",
    "\n",
    "한 개의 회의실이 있는데 이를 사용하고자 하는 N개의 회의에 대하여 회의실 사용표를 만들려고 한다.\n",
    "\n",
    "각 회의 I에 대해 시작시간과 끝나는 시간이 주어져 있고, 각 회의가 겹치지 않게 하면서 회의실을 사용할 수 있는 회의의 최대 개수를 찾아보자. 단, 회의는 한번 시작하면 중간에 중단될 수 없으며 한 회의가 끝나는 것과 동시에 다음 회의가 시작될 수 있다. \n",
    "\n",
    "회의의 시작시간과 끝나는 시간이 같을 수도 있다. 이 경우에는 시작하자마자 끝나는 것으로 생각하면 된다.\n",
    "\n",
    "## 입력\n",
    "\n",
    "첫째 줄에 회의의 수 N(1 ≤ N ≤ 100,000)이 주어진다. \n",
    "\n",
    "둘째 줄부터 N+1 줄까지 각 회의의 정보가 주어지는데 이것은 공백을 사이에 두고 회의의 시작시간과 끝나는 시간이 주어진다.\n",
    "\n",
    "시작 시간과 끝나는 시간은 231-1보다 작거나 같은 자연수 또는 0이다.\n",
    "\n",
    "## 출력\n",
    "첫째 줄에 최대 사용할 수 있는 회의의 최대 개수를 출력한다."
   ]
  },
  {
   "cell_type": "markdown",
   "id": "f57bd2b1",
   "metadata": {},
   "source": [
    "---"
   ]
  },
  {
   "cell_type": "markdown",
   "id": "ceed324f",
   "metadata": {},
   "source": [
    "## Memo\n",
    "\n",
    "- 9 9 \n",
    "- 1 9\n",
    "\n",
    "---\n",
    "\n",
    "start 시간도 정렬을 해줘야 함"
   ]
  },
  {
   "cell_type": "code",
   "execution_count": 11,
   "id": "efbf0154",
   "metadata": {},
   "outputs": [
    {
     "name": "stdout",
     "output_type": "stream",
     "text": [
      "2\n",
      "9 9\n",
      "1 9\n",
      "2\n"
     ]
    }
   ],
   "source": [
    "# 끝나는 시간 기준 으로 처리 해야함.\n",
    "# 시작 시간도 오름차순 처리해줘야 함\n",
    "\n",
    "\n",
    "N = int(input())\n",
    "\n",
    "arr = []\n",
    "\n",
    "for i in range(N):\n",
    "    s, e = map(int,input().split())\n",
    "    arr.append((s,e))\n",
    "\n",
    "arr.sort(key = lambda x:x[0])    \n",
    "arr.sort(key = lambda x:x[1])\n",
    "\n",
    "ans = 0\n",
    "last = 0\n",
    "\n",
    "for (s,e) in arr:\n",
    "    \n",
    "    if s >= last:\n",
    "        last = e\n",
    "        ans += 1\n",
    "    \n",
    "print(ans)\n",
    "        \n",
    "    \n"
   ]
  },
  {
   "cell_type": "markdown",
   "id": "09dbd0f0",
   "metadata": {},
   "source": [
    "----"
   ]
  },
  {
   "cell_type": "code",
   "execution_count": 5,
   "id": "8e96eaf9",
   "metadata": {},
   "outputs": [
    {
     "name": "stdout",
     "output_type": "stream",
     "text": [
      "2\n",
      "9 9\n",
      "1 9\n",
      "1\n"
     ]
    }
   ],
   "source": [
    "\n",
    "\n",
    "N = int(input())\n",
    "\n",
    "arr = [ list(map(int,input().split())) for _ in range(N) ]\n",
    "\n",
    "\n",
    "arr.sort(key = lambda x:x[1])\n",
    "\n",
    "\n",
    "ans = 0\n",
    "last = 0\n",
    "\n",
    "\n",
    "for lst in arr:\n",
    "    \n",
    "    s = lst[0]\n",
    "    e = lst[1]\n",
    "        \n",
    "    if s >= last:\n",
    "        last = e\n",
    "        ans += 1\n",
    "    \n",
    "    else:\n",
    "        continue\n",
    "        \n",
    "print(ans)          \n",
    "        \n",
    "        "
   ]
  }
 ],
 "metadata": {
  "kernelspec": {
   "display_name": "Python 3 (ipykernel)",
   "language": "python",
   "name": "python3"
  },
  "language_info": {
   "codemirror_mode": {
    "name": "ipython",
    "version": 3
   },
   "file_extension": ".py",
   "mimetype": "text/x-python",
   "name": "python",
   "nbconvert_exporter": "python",
   "pygments_lexer": "ipython3",
   "version": "3.8.16"
  },
  "toc": {
   "base_numbering": 1,
   "nav_menu": {},
   "number_sections": true,
   "sideBar": true,
   "skip_h1_title": false,
   "title_cell": "Table of Contents",
   "title_sidebar": "Contents",
   "toc_cell": false,
   "toc_position": {},
   "toc_section_display": true,
   "toc_window_display": false
  },
  "varInspector": {
   "cols": {
    "lenName": 16,
    "lenType": 16,
    "lenVar": 40
   },
   "kernels_config": {
    "python": {
     "delete_cmd_postfix": "",
     "delete_cmd_prefix": "del ",
     "library": "var_list.py",
     "varRefreshCmd": "print(var_dic_list())"
    },
    "r": {
     "delete_cmd_postfix": ") ",
     "delete_cmd_prefix": "rm(",
     "library": "var_list.r",
     "varRefreshCmd": "cat(var_dic_list()) "
    }
   },
   "types_to_exclude": [
    "module",
    "function",
    "builtin_function_or_method",
    "instance",
    "_Feature"
   ],
   "window_display": false
  }
 },
 "nbformat": 4,
 "nbformat_minor": 5
}
