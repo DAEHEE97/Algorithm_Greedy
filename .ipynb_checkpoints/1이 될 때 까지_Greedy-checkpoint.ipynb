{
 "cells": [
  {
   "cell_type": "markdown",
   "id": "506e3d0d",
   "metadata": {},
   "source": [
    "#  <문제> 1이 될 때 까지 \n",
    "\n",
    "- 최소 연산 수행 횟수\n",
    "\n",
    "- 어떠한 수 N이 1이 될 때까지 두 가지 과정중 하나를 선택해서 수헹\n",
    "\n",
    "    1. n에서 1을 뺍니다.\n",
    "    2. n을 k로 나눕니다.\n",
    "    "
   ]
  },
  {
   "cell_type": "markdown",
   "id": "3cce6795",
   "metadata": {},
   "source": [
    "---"
   ]
  },
  {
   "cell_type": "markdown",
   "id": "735845bc",
   "metadata": {},
   "source": [
    "## 해결 아이디어 - 1이 될 때 까지\n",
    "\n",
    "- 연산 수행횟수 를 최소한으로 줄이기 위해서는 나누기 연산을 우선적으로 해야함 따라서 주어진 N에 대하여 **최대한 많이 나누기**를 수행해야 합니다.\n",
    "\n",
    "\n",
    "- 나누기 몫 연산을 하기 위해서는 반드시 배수가 되어야 하는데, 나누어 떨어지지 않는다면 우선 - 1 빼기를 진행.\n",
    "\n",
    "\n",
    "- N의 값을 줄일 때 2 이상의 수로 나누는 작업이 1을 빼는 작업보다 N을 많이 줄일수 있습니다.\n"
   ]
  },
  {
   "cell_type": "markdown",
   "id": "10d18260",
   "metadata": {},
   "source": [
    "---"
   ]
  },
  {
   "cell_type": "markdown",
   "id": "eddeade1",
   "metadata": {},
   "source": [
    "## 정당성 분석 - 1이 될 때 까지\n",
    "\n",
    "\n",
    "\n",
    "- 가능하면 K값으로 최대한 많이 나누는 작업은, K가 2 이상이기만 한다면, 1을  빼는 것 보다 항상 빠르게 N을 줄일 수 있습니다.\n",
    "\n",
    "\n",
    "- K값으로 N을 나누는 작업은 -1을 하는것과 마찬가지로 항상 1에 도달하게 하므로, 최적의 해가 성립됨을 보장할 수 있습니다."
   ]
  },
  {
   "cell_type": "markdown",
   "id": "a8b44819",
   "metadata": {},
   "source": [
    "---"
   ]
  },
  {
   "cell_type": "markdown",
   "id": "d25ed74e",
   "metadata": {},
   "source": [
    "## Src\n",
    "\n",
    "K = 1, 이라면 - 1 과정, 이외는 모든 과정은 K로 나누는 과정이 최소 연산 수행 횟수를 구하는 과정에서 정당하다.\n",
    "\n",
    "여기서 나누는 연산은, 몫 연산이 아니라, 실제 나누는 연산 입니다.\n",
    "\n",
    "따라서 나머지가 생성되는 연산은도 -1 처리 해야 합니다.\n"
   ]
  },
  {
   "cell_type": "markdown",
   "id": "f2136b79",
   "metadata": {},
   "source": [
    "---"
   ]
  },
  {
   "cell_type": "code",
   "execution_count": 1,
   "id": "5f0829a3",
   "metadata": {},
   "outputs": [
    {
     "name": "stdout",
     "output_type": "stream",
     "text": [
      "25 4\n",
      "5\n"
     ]
    }
   ],
   "source": [
    "n, k = map(int, input().split())\n",
    "\n",
    "cnt = 0\n",
    "\n",
    "while(True):\n",
    "    \n",
    "    if (n == 1):\n",
    "        break\n",
    "        \n",
    "    # 1) k로 나누어 떨어지는 경우 \n",
    "    if n // k == n / k :\n",
    "        \n",
    "        n = n // k\n",
    "        cnt += 1\n",
    "        \n",
    "    # 2) k로 나누어 떨어지지 않거나, 혹은 k == 1 인 경우\n",
    "    elif n // k != n / k or k == 1 :\n",
    "        \n",
    "        n = n - 1\n",
    "        cnt += 1\n",
    "        \n",
    "    \n",
    "\n",
    "print(cnt)\n",
    "\n"
   ]
  },
  {
   "cell_type": "code",
   "execution_count": 2,
   "id": "b33a1700",
   "metadata": {},
   "outputs": [
    {
     "data": {
      "text/plain": [
       "(True, False)"
      ]
     },
     "execution_count": 2,
     "metadata": {},
     "output_type": "execute_result"
    }
   ],
   "source": [
    "(16 / 4 == 16 // 4), (17 / 4 == 17 // 4)"
   ]
  }
 ],
 "metadata": {
  "kernelspec": {
   "display_name": "Python 3 (ipykernel)",
   "language": "python",
   "name": "python3"
  },
  "language_info": {
   "codemirror_mode": {
    "name": "ipython",
    "version": 3
   },
   "file_extension": ".py",
   "mimetype": "text/x-python",
   "name": "python",
   "nbconvert_exporter": "python",
   "pygments_lexer": "ipython3",
   "version": "3.8.16"
  },
  "toc": {
   "base_numbering": 1,
   "nav_menu": {},
   "number_sections": true,
   "sideBar": true,
   "skip_h1_title": false,
   "title_cell": "Table of Contents",
   "title_sidebar": "Contents",
   "toc_cell": false,
   "toc_position": {},
   "toc_section_display": true,
   "toc_window_display": false
  },
  "varInspector": {
   "cols": {
    "lenName": 16,
    "lenType": 16,
    "lenVar": 40
   },
   "kernels_config": {
    "python": {
     "delete_cmd_postfix": "",
     "delete_cmd_prefix": "del ",
     "library": "var_list.py",
     "varRefreshCmd": "print(var_dic_list())"
    },
    "r": {
     "delete_cmd_postfix": ") ",
     "delete_cmd_prefix": "rm(",
     "library": "var_list.r",
     "varRefreshCmd": "cat(var_dic_list()) "
    }
   },
   "types_to_exclude": [
    "module",
    "function",
    "builtin_function_or_method",
    "instance",
    "_Feature"
   ],
   "window_display": false
  }
 },
 "nbformat": 4,
 "nbformat_minor": 5
}
