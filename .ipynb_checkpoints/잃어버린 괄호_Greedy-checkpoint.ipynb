{
 "cells": [
  {
   "cell_type": "markdown",
   "id": "9be1bc01",
   "metadata": {},
   "source": [
    "# 잃어버린 괄호_Greedy"
   ]
  },
  {
   "cell_type": "markdown",
   "id": "9625e404",
   "metadata": {},
   "source": [
    "세준이는 양수와 +, -, 그리고 괄호를 가지고 식을 만들었다. 그리고 나서 세준이는 괄호를 모두 지웠다.\n",
    "\n",
    "그리고 나서 세준이는 괄호를 적절히 쳐서 이 식의 값을 최소로 만들려고 한다.\n",
    "\n",
    "괄호를 적절히 쳐서 이 식의 값을 최소로 만드는 프로그램을 작성하시오.\n",
    "\n",
    "## 입력\n",
    "첫째 줄에 식이 주어진다. 식은 ‘0’~‘9’, ‘+’, 그리고 ‘-’만으로 이루어져 있고, 가장 처음과 마지막 문자는 숫자이다. 그리고 연속해서 두 개 이상의 연산자가 나타나지 않고, 5자리보다 많이 연속되는 숫자는 없다. 수는 0으로 시작할 수 있다. 입력으로 주어지는 식의 길이는 50보다 작거나 같다.\n",
    "\n",
    "## 출력\n",
    "첫째 줄에 정답을 출력한다."
   ]
  },
  {
   "cell_type": "markdown",
   "id": "0e7a1c7f",
   "metadata": {},
   "source": [
    "최솟값 만들려면\n",
    "\n",
    "- 부분을 최대한 크게 만들어야함\n",
    "\n",
    "- `-` 를 찾아서 다음 -까지 "
   ]
  },
  {
   "cell_type": "markdown",
   "id": "155c4d4d",
   "metadata": {},
   "source": [
    "55-50+40 = 55 - (50+40)\n",
    "\n",
    "55-50+40-30 = 55 - (55+40) - (30)"
   ]
  },
  {
   "cell_type": "code",
   "execution_count": 1,
   "id": "1b7ba4b9",
   "metadata": {},
   "outputs": [],
   "source": [
    "string = '55-50+40'"
   ]
  },
  {
   "cell_type": "code",
   "execution_count": 2,
   "id": "0f209662",
   "metadata": {},
   "outputs": [],
   "source": [
    "string = '55-50+40-30'"
   ]
  },
  {
   "cell_type": "code",
   "execution_count": 4,
   "id": "4cef5d90",
   "metadata": {},
   "outputs": [
    {
     "data": {
      "text/plain": [
       "'55-50+40-30'"
      ]
     },
     "execution_count": 4,
     "metadata": {},
     "output_type": "execute_result"
    }
   ],
   "source": [
    "string"
   ]
  },
  {
   "cell_type": "code",
   "execution_count": 5,
   "id": "c37a30ff",
   "metadata": {},
   "outputs": [
    {
     "ename": "ValueError",
     "evalue": "invalid literal for int() with base 10: '55-50+40-30'",
     "output_type": "error",
     "traceback": [
      "\u001b[0;31m---------------------------------------------------------------------------\u001b[0m",
      "\u001b[0;31mValueError\u001b[0m                                Traceback (most recent call last)",
      "Cell \u001b[0;32mIn[5], line 1\u001b[0m\n\u001b[0;32m----> 1\u001b[0m \u001b[38;5;28;43mint\u001b[39;49m\u001b[43m(\u001b[49m\u001b[43mstring\u001b[49m\u001b[43m)\u001b[49m\n",
      "\u001b[0;31mValueError\u001b[0m: invalid literal for int() with base 10: '55-50+40-30'"
     ]
    }
   ],
   "source": [
    "int(string)"
   ]
  },
  {
   "cell_type": "code",
   "execution_count": null,
   "id": "7aae3cf5",
   "metadata": {},
   "outputs": [],
   "source": [
    "for i in range(len(string)):\n",
    "    \n",
    "    if lst[i] == '-':\n",
    "        "
   ]
  }
 ],
 "metadata": {
  "kernelspec": {
   "display_name": "Python 3 (ipykernel)",
   "language": "python",
   "name": "python3"
  },
  "language_info": {
   "codemirror_mode": {
    "name": "ipython",
    "version": 3
   },
   "file_extension": ".py",
   "mimetype": "text/x-python",
   "name": "python",
   "nbconvert_exporter": "python",
   "pygments_lexer": "ipython3",
   "version": "3.8.16"
  },
  "toc": {
   "base_numbering": 1,
   "nav_menu": {},
   "number_sections": true,
   "sideBar": true,
   "skip_h1_title": false,
   "title_cell": "Table of Contents",
   "title_sidebar": "Contents",
   "toc_cell": false,
   "toc_position": {},
   "toc_section_display": true,
   "toc_window_display": false
  },
  "varInspector": {
   "cols": {
    "lenName": 16,
    "lenType": 16,
    "lenVar": 40
   },
   "kernels_config": {
    "python": {
     "delete_cmd_postfix": "",
     "delete_cmd_prefix": "del ",
     "library": "var_list.py",
     "varRefreshCmd": "print(var_dic_list())"
    },
    "r": {
     "delete_cmd_postfix": ") ",
     "delete_cmd_prefix": "rm(",
     "library": "var_list.r",
     "varRefreshCmd": "cat(var_dic_list()) "
    }
   },
   "types_to_exclude": [
    "module",
    "function",
    "builtin_function_or_method",
    "instance",
    "_Feature"
   ],
   "window_display": false
  }
 },
 "nbformat": 4,
 "nbformat_minor": 5
}
