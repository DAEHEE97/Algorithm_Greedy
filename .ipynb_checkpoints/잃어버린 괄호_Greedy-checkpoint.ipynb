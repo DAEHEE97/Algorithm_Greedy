{
 "cells": [
  {
   "cell_type": "markdown",
   "id": "2ef186a3",
   "metadata": {},
   "source": [
    "# 잃어버린 괄호_Greedy\n",
    "\n",
    "- [잃어버린 괄호](https://www.acmicpc.net/problem/1541)"
   ]
  },
  {
   "cell_type": "markdown",
   "id": "92eb887e",
   "metadata": {},
   "source": [
    "세준이는 양수와 +, -, 그리고 괄호를 가지고 식을 만들었다. 그리고 나서 세준이는 괄호를 모두 지웠다.\n",
    "\n",
    "그리고 나서 세준이는 괄호를 적절히 쳐서 이 식의 값을 최소로 만들려고 한다.\n",
    "\n",
    "괄호를 적절히 쳐서 이 식의 값을 최소로 만드는 프로그램을 작성하시오.\n",
    "\n",
    "## 입력\n",
    "첫째 줄에 식이 주어진다. 식은 ‘0’~‘9’, ‘+’, 그리고 ‘-’만으로 이루어져 있고, 가장 처음과 마지막 문자는 숫자이다. 그리고 연속해서 두 개 이상의 연산자가 나타나지 않고, 5자리보다 많이 연속되는 숫자는 없다. 수는 0으로 시작할 수 있다. 입력으로 주어지는 식의 길이는 50보다 작거나 같다.\n",
    "\n",
    "## 출력\n",
    "첫째 줄에 정답을 출력한다.\n",
    "\n"
   ]
  },
  {
   "cell_type": "markdown",
   "id": "dfb69257",
   "metadata": {},
   "source": [
    "---"
   ]
  },
  {
   "cell_type": "markdown",
   "id": "8e5293c7",
   "metadata": {},
   "source": [
    "## Memo\n",
    "\n",
    "- `-50`  가장 처음과 마지막 문자는 숫자이므로, 제일 앞은 무조건 양수\n",
    "\n",
    "- `-` 를 기준으로 입력 받은 문자열을 split \n",
    "\n"
   ]
  },
  {
   "cell_type": "code",
   "execution_count": 1,
   "id": "12796d00",
   "metadata": {},
   "outputs": [
    {
     "name": "stdout",
     "output_type": "stream",
     "text": [
      "55-50+40\n",
      "-35\n"
     ]
    }
   ],
   "source": [
    "\n",
    "# 1) 입력, `-` 를 기준으로 입력 받은 문자열을 split \n",
    "string = input()\n",
    "\n",
    "lst = list(string.split('-'))\n",
    "\n",
    "lst_first = lst[0]\n",
    "lst_rear = lst[1:]\n",
    "\n",
    "\n",
    "# 2) 제약사항, 가장 처음과 마지막 문자는 숫자이므로, 제일 앞은 무조건 양수\n",
    "\n",
    "ans = 0\n",
    "\n",
    "ans += sum(list(map(int, lst_first.split('+'))))# \n",
    "\n",
    "# 3) 나머지 정답 처리, 문자열을 '+' 로 splilt() 하여 분리한후, 정수형 리스트로 반환 후, 합을 구해서, ans -= 연산\n",
    "for s in lst_rear:\n",
    "    \n",
    "    ans -= sum(list(map(int, s.split('+'))))\n",
    "    \n",
    "print(ans)"
   ]
  },
  {
   "cell_type": "markdown",
   "id": "c500e518",
   "metadata": {},
   "source": [
    "---"
   ]
  },
  {
   "cell_type": "markdown",
   "id": "3c7779aa",
   "metadata": {},
   "source": [
    "## [] 리스트\n",
    "\n",
    "- ans += lst[0] 단순 처리 x, 반례 플러스만 있는 경우 \n",
    "\n",
    "- 빈 리스트 처리시 error 발생 하지 않음"
   ]
  },
  {
   "cell_type": "code",
   "execution_count": 2,
   "id": "f47db6a1",
   "metadata": {},
   "outputs": [],
   "source": [
    "lst_f = lst[0]\n",
    "lst_rear = lst[1:]"
   ]
  },
  {
   "cell_type": "code",
   "execution_count": 3,
   "id": "43d3260f",
   "metadata": {},
   "outputs": [
    {
     "data": {
      "text/plain": [
       "'55'"
      ]
     },
     "execution_count": 3,
     "metadata": {},
     "output_type": "execute_result"
    }
   ],
   "source": [
    "lst_f"
   ]
  },
  {
   "cell_type": "code",
   "execution_count": 10,
   "id": "b2b000f8",
   "metadata": {},
   "outputs": [],
   "source": [
    "for i in []:\n",
    "    \n",
    "    print(i)"
   ]
  },
  {
   "cell_type": "markdown",
   "id": "aa5bcf46",
   "metadata": {},
   "source": [
    "---"
   ]
  },
  {
   "cell_type": "markdown",
   "id": "e5491446",
   "metadata": {},
   "source": [
    "## eval 함수\n",
    "\n",
    "- 0009 error"
   ]
  },
  {
   "cell_type": "code",
   "execution_count": 6,
   "id": "6719bfdf",
   "metadata": {},
   "outputs": [
    {
     "data": {
      "text/plain": [
       "'50+40'"
      ]
     },
     "execution_count": 6,
     "metadata": {},
     "output_type": "execute_result"
    }
   ],
   "source": [
    "lst[1]"
   ]
  },
  {
   "cell_type": "code",
   "execution_count": 7,
   "id": "6c5d9a42",
   "metadata": {},
   "outputs": [
    {
     "data": {
      "text/plain": [
       "90"
      ]
     },
     "execution_count": 7,
     "metadata": {},
     "output_type": "execute_result"
    }
   ],
   "source": [
    "eval(lst[1])"
   ]
  },
  {
   "cell_type": "code",
   "execution_count": 9,
   "id": "e393be76",
   "metadata": {},
   "outputs": [
    {
     "ename": "IndexError",
     "evalue": "list index out of range",
     "output_type": "error",
     "traceback": [
      "\u001b[0;31m---------------------------------------------------------------------------\u001b[0m",
      "\u001b[0;31mIndexError\u001b[0m                                Traceback (most recent call last)",
      "Cell \u001b[0;32mIn[9], line 1\u001b[0m\n\u001b[0;32m----> 1\u001b[0m \u001b[38;5;28meval\u001b[39m(\u001b[43mlst\u001b[49m\u001b[43m[\u001b[49m\u001b[38;5;241;43m2\u001b[39;49m\u001b[43m]\u001b[49m)\n",
      "\u001b[0;31mIndexError\u001b[0m: list index out of range"
     ]
    }
   ],
   "source": [
    "eval(lst[2])"
   ]
  }
 ],
 "metadata": {
  "kernelspec": {
   "display_name": "Python 3 (ipykernel)",
   "language": "python",
   "name": "python3"
  },
  "language_info": {
   "codemirror_mode": {
    "name": "ipython",
    "version": 3
   },
   "file_extension": ".py",
   "mimetype": "text/x-python",
   "name": "python",
   "nbconvert_exporter": "python",
   "pygments_lexer": "ipython3",
   "version": "3.8.16"
  },
  "toc": {
   "base_numbering": 1,
   "nav_menu": {},
   "number_sections": true,
   "sideBar": true,
   "skip_h1_title": false,
   "title_cell": "Table of Contents",
   "title_sidebar": "Contents",
   "toc_cell": false,
   "toc_position": {},
   "toc_section_display": true,
   "toc_window_display": false
  },
  "varInspector": {
   "cols": {
    "lenName": 16,
    "lenType": 16,
    "lenVar": 40
   },
   "kernels_config": {
    "python": {
     "delete_cmd_postfix": "",
     "delete_cmd_prefix": "del ",
     "library": "var_list.py",
     "varRefreshCmd": "print(var_dic_list())"
    },
    "r": {
     "delete_cmd_postfix": ") ",
     "delete_cmd_prefix": "rm(",
     "library": "var_list.r",
     "varRefreshCmd": "cat(var_dic_list()) "
    }
   },
   "types_to_exclude": [
    "module",
    "function",
    "builtin_function_or_method",
    "instance",
    "_Feature"
   ],
   "window_display": false
  }
 },
 "nbformat": 4,
 "nbformat_minor": 5
}
