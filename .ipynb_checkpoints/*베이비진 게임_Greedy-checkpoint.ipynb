{
 "cells": [
  {
   "cell_type": "markdown",
   "id": "cbfafd7d",
   "metadata": {},
   "source": [
    "# 베이비진 게임_Greedy"
   ]
  },
  {
   "cell_type": "markdown",
   "id": "02fa1126",
   "metadata": {},
   "source": [
    "---"
   ]
  },
  {
   "cell_type": "markdown",
   "id": "a62252ca",
   "metadata": {},
   "source": [
    "0부터 9까지인 숫자 카드 4세트를 섞은 후 6개의 카드를 골랐을 때, 연속인 숫자가 3개 이상이면 run, 같은 숫자가 3개 이상이면 triplet이라고 한다.\n",
    "\n",
    "게임을 시작하면 플레이어1과 플레이어 2가 교대로 한 장 씩 카드를 가져가며, 6장을 채우기 전이라도 먼저 run이나 triplet이 되는 사람이 승자가 된다.\n",
    "\n",
    "두 사람이 가져가게 되는 순서대로 12장의 카드에 대한 정보가 주어졌을 때 승자를 알아내는 프로그램을 작성하시오. 만약 무승부인 경우 0을 출력한다.\n",
    "\n",
    "예를 들어 9 9 5 6 5 6 1 1 4 2 2 1인 경우, 플레이어 1은 9, 5, 5, 1, 4, 2카드를, 플레이어2는 9, 6, 6, 1, 2, 1을 가져가게 된다.\n",
    "\n",
    "이때는 카드를 모두 가져갈 때 까지 run이나 triplet이 없으므로 무승부가 된다.\n",
    "\n",
    "\n",
    "## [입력]\n",
    "\n",
    "첫 줄에 테스트케이스의 수 T가 주어진다. 1<=T<=50\n",
    "\n",
    "다음 줄부터 테스트 케이스의 별로 각 줄에 0에서 9사이인 12개의 숫자가 주어진다.\n",
    " \n",
    "## [출력]\n",
    "\n",
    "각 줄마다 \"#T\" (T는 테스트 케이스 번호)를 출력한 뒤, 답을 출력한다."
   ]
  },
  {
   "cell_type": "markdown",
   "id": "59072737",
   "metadata": {},
   "source": [
    "---"
   ]
  },
  {
   "cell_type": "markdown",
   "id": "44d6ca69",
   "metadata": {},
   "source": [
    "## Memo\n",
    "\n",
    "- 1턴 이 아니라, 플레이어 1이 먼저 run or triplet 이 되면 종료 되는 시스템 같음\n",
    "\n",
    "- 플레이어 1이 먼저 완성 시 바로 종료\n",
    "\n",
    "\n",
    "- set 으로 중복 처리시 주의 길이 >= 2 이런거 주의\n",
    "\n",
    "- 2 2 0 0 1 1\n",
    "\n",
    "- 2 2 2 0 1\n",
    "\n",
    "결과가  같음"
   ]
  },
  {
   "cell_type": "markdown",
   "id": "ac8cb48f",
   "metadata": {},
   "source": [
    "---"
   ]
  },
  {
   "cell_type": "code",
   "execution_count": 74,
   "id": "5cb5dea5",
   "metadata": {},
   "outputs": [],
   "source": [
    "def solve(lst):\n",
    "    if len(lst)<3:\n",
    "        return 0\n",
    "    \n",
    "    \n",
    "    # 정렬\n",
    "    lst.sort()\n",
    "    \n",
    "    # 연속 3개 \n",
    "    for si in range(len(lst) -3 + 1):\n",
    "        if lst[si+1]-lst[si+0] == 1 and lst[si+2]-lst[si+1] == 1:\n",
    "            return 1\n",
    "\n",
    "    \n",
    "    #중복 3개\n",
    "    \n",
    "    for v in lst:\n",
    "        \n",
    "        if lst.count(v) >= 3:\n",
    "            return 1\n",
    "    \n",
    "      \n",
    "    return 0\n",
    "\n",
    "        "
   ]
  },
  {
   "cell_type": "markdown",
   "id": "738ef1e1",
   "metadata": {},
   "source": [
    "---"
   ]
  },
  {
   "cell_type": "code",
   "execution_count": 75,
   "id": "b0f04216",
   "metadata": {},
   "outputs": [
    {
     "name": "stdout",
     "output_type": "stream",
     "text": [
      "1\n",
      "1 2 2 9\n",
      "#1 0\n"
     ]
    }
   ],
   "source": [
    "T = int(input())\n",
    "\n",
    "for t in range(1, T+1):\n",
    "    \n",
    "    lst = list(map(int, input().split()))\n",
    "    \n",
    "    l1 = []\n",
    "    l2 = []\n",
    "    \n",
    "    ans = 0\n",
    "    \n",
    "    while lst:\n",
    "        \n",
    "        \n",
    "        l1.append(lst.pop(0))\n",
    "        l2.append(lst.pop(0))\n",
    "        \n",
    "        ans1 = 0\n",
    "        ans2 = 0\n",
    "        \n",
    "        \n",
    "    \n",
    "        ans1 = solve(l1)\n",
    "        \n",
    "        if ans1 == 1 and ans2 == 0:\n",
    "            ans = 1\n",
    "            break \n",
    "            \n",
    "        \n",
    "        ans2 = solve(l2)\n",
    "        \n",
    "        if ans2 == 1 and ans1 == 0:\n",
    "            ans = 2\n",
    "            break\n",
    "            \n",
    "        else:\n",
    "            ans = 0\n",
    "            \n",
    "        \n",
    "        \n",
    "    print(f'#{t} {ans}')\n",
    "        \n",
    "    \n",
    "        \n",
    "    "
   ]
  },
  {
   "cell_type": "markdown",
   "id": "2eb3a38a",
   "metadata": {},
   "source": [
    "---"
   ]
  },
  {
   "cell_type": "code",
   "execution_count": null,
   "id": "f7fe972a",
   "metadata": {},
   "outputs": [],
   "source": [
    "# error\n",
    "if len(lst) - len(set(lst)) >= 2:\n",
    "    return 1"
   ]
  },
  {
   "cell_type": "markdown",
   "id": "2916502c",
   "metadata": {},
   "source": [
    "---"
   ]
  },
  {
   "cell_type": "code",
   "execution_count": null,
   "id": "8649792e",
   "metadata": {},
   "outputs": [],
   "source": [
    "def baby(cnts, idx):\n",
    "    if cnts[idx] == 3:\n",
    "        return 1\n",
    "    for i in (idx-2, idx-1, idx):\n",
    "        if 0<=i<=7 and cnts[i]>0 and cnts[i+1]>0 and cnts[i+2]>0:\n",
    "            return 1\n",
    "    return 0\n",
    "\n",
    "T = int(input())\n",
    "for test_case in range(1, T + 1):\n",
    "    lst = list(map(int, input().split()))\n",
    "    # [1] cnts1, 2 배열 생성(빈도수 체크)\n",
    "    cnts1 = [0]*10\n",
    "    cnts2 = [0]*10\n",
    "\n",
    "    ans = 0\n",
    "    for i in range(len(lst)):\n",
    "        if i%2 == 0:            # even => 1번 플레이어\n",
    "            cnts1[lst[i]] += 1  # 해당 숫자 표시\n",
    "            if baby(cnts1, lst[i]):\n",
    "                ans = 1\n",
    "                break\n",
    "        else:\n",
    "            cnts2[lst[i]] += 1  # 해당 숫자 표시\n",
    "            if baby(cnts2, lst[i]):\n",
    "                ans = 2\n",
    "                break\n",
    "\n",
    "    print(f'#{test_case} {ans}')\n",
    "    "
   ]
  }
 ],
 "metadata": {
  "kernelspec": {
   "display_name": "Python 3 (ipykernel)",
   "language": "python",
   "name": "python3"
  },
  "language_info": {
   "codemirror_mode": {
    "name": "ipython",
    "version": 3
   },
   "file_extension": ".py",
   "mimetype": "text/x-python",
   "name": "python",
   "nbconvert_exporter": "python",
   "pygments_lexer": "ipython3",
   "version": "3.8.16"
  },
  "toc": {
   "base_numbering": 1,
   "nav_menu": {},
   "number_sections": true,
   "sideBar": true,
   "skip_h1_title": false,
   "title_cell": "Table of Contents",
   "title_sidebar": "Contents",
   "toc_cell": false,
   "toc_position": {},
   "toc_section_display": true,
   "toc_window_display": false
  },
  "varInspector": {
   "cols": {
    "lenName": 16,
    "lenType": 16,
    "lenVar": 40
   },
   "kernels_config": {
    "python": {
     "delete_cmd_postfix": "",
     "delete_cmd_prefix": "del ",
     "library": "var_list.py",
     "varRefreshCmd": "print(var_dic_list())"
    },
    "r": {
     "delete_cmd_postfix": ") ",
     "delete_cmd_prefix": "rm(",
     "library": "var_list.r",
     "varRefreshCmd": "cat(var_dic_list()) "
    }
   },
   "types_to_exclude": [
    "module",
    "function",
    "builtin_function_or_method",
    "instance",
    "_Feature"
   ],
   "window_display": false
  }
 },
 "nbformat": 4,
 "nbformat_minor": 5
}
