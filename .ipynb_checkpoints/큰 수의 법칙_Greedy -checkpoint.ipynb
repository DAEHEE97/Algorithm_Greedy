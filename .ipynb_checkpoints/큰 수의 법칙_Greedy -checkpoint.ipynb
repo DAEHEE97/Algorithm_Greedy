{
 "cells": [
  {
   "cell_type": "markdown",
   "metadata": {},
   "source": [
    "# 큰 수의 법칙_Greedy \n",
    "\n",
    "다양한 수로 이루어진 배열이 있을 때 주어진 수들을 M번 더하여 가장 큰 수를 만드는 법칙.\n",
    "\n",
    "- 단 배열의 특정한 인덱스에 해당하는 수가 연속해서 K번을 초과하여 더해질 수 없다.\n",
    "\n",
    "- 단, 서로 다른 인덱스에 해당하는 수가 같은 경우에도 서로 다른 것으로 간주한다.\n",
    "\n",
    "\n",
    "## 입력 조건\n",
    "\n",
    "첫째 줄어 N(2 <= N <= 1000), M( 1 <= M <= 10,000), K(1 <= K <= 10,000)의 자연수가 주어지며, 각 자연수는 공백으로 구분한다.\n",
    "둘째 줄에 N개의 자연수가 주어진다. 각 자연수는 공백으로 구분한다. 단, 각각의 자연수는 1 이상 10,000이하의 수로 주어진다.\n",
    "입력으로 주어지는 K는 항상 M보다 작거나 같다.\n",
    " \n",
    "\n",
    "## 출력 조건\n",
    "\n",
    "첫째 줄에 동빈이의 큰 수의 법칙에 따라 더해진 답을 출력한다.\n"
   ]
  },
  {
   "cell_type": "markdown",
   "metadata": {},
   "source": [
    "---"
   ]
  },
  {
   "cell_type": "markdown",
   "metadata": {},
   "source": [
    "## 해결 아이디어 - 큰 수의 법칙\n",
    "\n",
    "- 규칙성\n",
    "\n",
    "\n",
    "```\n",
    "예를 들어 2, 4, 5, 4, 6으로 이루어진 배열이 있을 때, M이 8이고, K가 3이라면 \n",
    "\n",
    "5 8 3\n",
    "\n",
    "2 4 5 4 6\n",
    "\n",
    "\n",
    "( 6 + 6 + 6 + 5 ) + ( 6 + 6 + 6 + 5  )  => 46\n",
    "\n",
    "\n",
    "예를 들어 순서대로 3, 4, 3, 4, 3 으로 이루어진 배열이 있을 때 M이 7이고, K가 2라고 가정하자\n",
    "\n",
    "(4 + 4 + 4 ) +( 4 + 4 + 4 )+ 4 + 4 => 28\n",
    "\n",
    "\n",
    "\n",
    "5 10 3\n",
    "\n",
    "6 6 6 / 5  \n",
    "6 6 6 / 5    \n",
    "\n",
    "6 6\n",
    "\n",
    "\n",
    "11 4\n",
    "\n",
    "6 6 6 6 / 4 \n",
    "6 6 6 6 / 4  \n",
    "\n",
    "6 \n",
    "\n",
    "\n",
    "\n",
    "```\n",
    "\n",
    "---\n",
    "\n",
    "우선, 반복되는 수열의 길이는 (K + 1) 입니다.\n",
    "\n",
    "- 따라서, M 을 (K + 1)로 나눈 몫은 수열이 반복되는 횟수가 됩니다.\n",
    "\n",
    "여기에 K 를 곱해주면, 가장 큰 수가 등장하는 횟수가 됩니다.\n",
    "이때, M 이 (K + 1)로 나누어떨어지지 않는 경우도 고려해야 합니다.\n",
    "그럴 때는 M 을 (K + 1)로 나눈 나머지를 추가로 더해줍니다."
   ]
  },
  {
   "cell_type": "markdown",
   "metadata": {},
   "source": [
    "---"
   ]
  },
  {
   "cell_type": "code",
   "execution_count": 1,
   "metadata": {},
   "outputs": [
    {
     "name": "stdout",
     "output_type": "stream",
     "text": [
      "5 8 3\n",
      "2 4 5 4 6\n",
      "46\n"
     ]
    }
   ],
   "source": [
    "# 입력\n",
    "\n",
    "n, m, k= map(int,input().split())\n",
    "\n",
    "lst = list(map(int,input().split()))\n",
    "\n",
    "\n",
    "# 1) max값 동일한 것이 2개이상이면, 다른 수 취급하므로 max로 도배\n",
    "\n",
    "if lst.count(max(lst)) != 1:\n",
    "    \n",
    "    ans = max(lst) * m\n",
    "    \n",
    "# 2) max 값이 1개라면, \n",
    "else: \n",
    "    \n",
    "    lst.sort(reverse=True)\n",
    "    \n",
    "    max_s = lst[1]\n",
    "    \n",
    "    M,d = divmod(m, k+1)\n",
    "    \n",
    "    ans = ( max(lst) * k * M ) + (max_s * M) + ( max(lst) * d ) \n",
    "    \n",
    "print(ans)"
   ]
  },
  {
   "cell_type": "markdown",
   "metadata": {},
   "source": [
    "---"
   ]
  }
 ],
 "metadata": {
  "hide_input": false,
  "kernelspec": {
   "display_name": "Python 3 (ipykernel)",
   "language": "python",
   "name": "python3"
  },
  "language_info": {
   "codemirror_mode": {
    "name": "ipython",
    "version": 3
   },
   "file_extension": ".py",
   "mimetype": "text/x-python",
   "name": "python",
   "nbconvert_exporter": "python",
   "pygments_lexer": "ipython3",
   "version": "3.8.16"
  },
  "toc": {
   "base_numbering": 1,
   "nav_menu": {},
   "number_sections": true,
   "sideBar": true,
   "skip_h1_title": false,
   "title_cell": "Table of Contents",
   "title_sidebar": "Contents",
   "toc_cell": false,
   "toc_position": {},
   "toc_section_display": true,
   "toc_window_display": false
  },
  "varInspector": {
   "cols": {
    "lenName": 16,
    "lenType": 16,
    "lenVar": 40
   },
   "kernels_config": {
    "python": {
     "delete_cmd_postfix": "",
     "delete_cmd_prefix": "del ",
     "library": "var_list.py",
     "varRefreshCmd": "print(var_dic_list())"
    },
    "r": {
     "delete_cmd_postfix": ") ",
     "delete_cmd_prefix": "rm(",
     "library": "var_list.r",
     "varRefreshCmd": "cat(var_dic_list()) "
    }
   },
   "types_to_exclude": [
    "module",
    "function",
    "builtin_function_or_method",
    "instance",
    "_Feature"
   ],
   "window_display": false
  }
 },
 "nbformat": 4,
 "nbformat_minor": 4
}
