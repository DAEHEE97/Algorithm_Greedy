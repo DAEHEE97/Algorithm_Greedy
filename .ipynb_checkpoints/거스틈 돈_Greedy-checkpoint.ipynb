{
 "cells": [
  {
   "cell_type": "markdown",
   "id": "5f494dd1",
   "metadata": {},
   "source": [
    "# 거스름 돈\n",
    "\n",
    "손님에게 거슬러 주어야 할 돈 N원일 떄, 거슬러 주어야 할 동전의 최소 개수를 구하시오.(단 거슬러 줘야 할 돈 N은 10의 배수 입니다.)\n",
    "\n",
    "- 동전 최소 개수\n",
    "\n",
    "\n"
   ]
  },
  {
   "cell_type": "markdown",
   "id": "6ca461d9",
   "metadata": {},
   "source": [
    "---"
   ]
  },
  {
   "cell_type": "markdown",
   "id": "0370a618",
   "metadata": {},
   "source": [
    "## 해결 아이디어 - 거스름돈\n",
    "\n",
    "- 최적의 해를 빠르게 구하기 위해서는 가장 큰 화폐 단위부터 돈을 거슬러 주면 됩니다.\n",
    "\n",
    "\n",
    "- 500,100,50,10원 짜리 동전을 차례대로 거슬러 주면 됨 ( 내림 차순, 큰 값 부터 처리 )\n",
    "\n"
   ]
  },
  {
   "cell_type": "markdown",
   "id": "6f806a39",
   "metadata": {},
   "source": [
    "---"
   ]
  },
  {
   "cell_type": "markdown",
   "id": "ed15fb0d",
   "metadata": {},
   "source": [
    "## 정당성 분석\n",
    "\n",
    "- 가지고 있는 동전 중에서 큰 단위가 항상 작은 단위의 배수이므로, 작은 단위의 동전들 여러개를 종합해 큰 단위의 동전 하나를 구성할 수 있기 떄문 입니다.\n",
    "    \n",
    "\n",
    "Ex) 800원을 거슬러 주어야 할때 화폐 단위가 500원, 400원, 100원 이라면,\n",
    "\n",
    "- 그리디 :  500,100,100,100\n",
    "\n",
    "- 최적 : 400, 400\n",
    "\n",
    "500원 짜리가 400의 배수가아니므로 그리디 알고리즘으로 최적의 해를 구할수 없습니다.\n",
    "\n",
    "\n",
    "이처럼 다양한 방법들(랜덤,최소,최대)을 생각 후, 그리디 알고리즘(현재 최대부터) 아이디어 를 떠올리고, 그리디 알고리즘으로 구현한 해가. 최적의 해 로써 정당한지 검토해야 합니다.\n"
   ]
  },
  {
   "cell_type": "markdown",
   "id": "0516ae32",
   "metadata": {},
   "source": [
    "---"
   ]
  },
  {
   "cell_type": "markdown",
   "id": "8674e040",
   "metadata": {},
   "source": [
    "## src\n",
    "\n",
    "- coin_lst가 모두 나누어 떨어짐"
   ]
  },
  {
   "cell_type": "markdown",
   "id": "fd887f27",
   "metadata": {},
   "source": [
    "---"
   ]
  },
  {
   "cell_type": "code",
   "execution_count": 1,
   "id": "a218a10e",
   "metadata": {},
   "outputs": [
    {
     "name": "stdout",
     "output_type": "stream",
     "text": [
      "6\n"
     ]
    }
   ],
   "source": [
    "# 큰 단위의 화폐부터 차례대로 확인하기\n",
    "\n",
    "lst_coin = [50, 100, 500, 10]\n",
    "lst_coin.sort(reverse=True)\n",
    "\n",
    "\n",
    "n = 1260\n",
    "\n",
    "cnt = 0\n",
    "\n",
    "for c in lst_coin:\n",
    "    \n",
    "    cnt += (n // c) # 큰 화폐 부터 몫 카운트 사용한 동전 개수\n",
    "\n",
    "    n = n % c # 나머지 돈 계산 \n",
    "\n",
    "print(cnt)\n"
   ]
  }
 ],
 "metadata": {
  "kernelspec": {
   "display_name": "Python 3 (ipykernel)",
   "language": "python",
   "name": "python3"
  },
  "language_info": {
   "codemirror_mode": {
    "name": "ipython",
    "version": 3
   },
   "file_extension": ".py",
   "mimetype": "text/x-python",
   "name": "python",
   "nbconvert_exporter": "python",
   "pygments_lexer": "ipython3",
   "version": "3.8.16"
  },
  "toc": {
   "base_numbering": 1,
   "nav_menu": {},
   "number_sections": true,
   "sideBar": true,
   "skip_h1_title": false,
   "title_cell": "Table of Contents",
   "title_sidebar": "Contents",
   "toc_cell": false,
   "toc_position": {},
   "toc_section_display": true,
   "toc_window_display": false
  },
  "varInspector": {
   "cols": {
    "lenName": 16,
    "lenType": 16,
    "lenVar": 40
   },
   "kernels_config": {
    "python": {
     "delete_cmd_postfix": "",
     "delete_cmd_prefix": "del ",
     "library": "var_list.py",
     "varRefreshCmd": "print(var_dic_list())"
    },
    "r": {
     "delete_cmd_postfix": ") ",
     "delete_cmd_prefix": "rm(",
     "library": "var_list.r",
     "varRefreshCmd": "cat(var_dic_list()) "
    }
   },
   "types_to_exclude": [
    "module",
    "function",
    "builtin_function_or_method",
    "instance",
    "_Feature"
   ],
   "window_display": false
  }
 },
 "nbformat": 4,
 "nbformat_minor": 5
}
