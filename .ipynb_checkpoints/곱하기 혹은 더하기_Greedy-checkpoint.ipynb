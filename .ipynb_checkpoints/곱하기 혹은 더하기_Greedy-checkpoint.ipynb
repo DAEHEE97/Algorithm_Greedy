{
 "cells": [
  {
   "cell_type": "markdown",
   "id": "4de2cf41",
   "metadata": {},
   "source": [
    "# 곱하기 혹은 더하기 \n",
    "\n",
    "\n",
    "- 두 수에 대하여 연산을 수행하여, 최대 값\n",
    "\n",
    "\n",
    "각 자리가 숫자 (0부터 9)로만 이루어진 문자열 S가 주어졌을 때, 왼쪽부터 오른쪽으로 하나씩 모든 숫자를 확인하며, \n",
    "\n",
    "숫자 사이에 'x' 혹은 '+'연산자를 넣어 결과적으로 만들어질 수 있는 가장 큰 수를 구하는 프로그램을 작성\n",
    "\n",
    "( 단 + 보다 x 연산을 먼저 계산하는 일방적인 방식과는 달리, 모든 연산은 왼쪽에서 부터 순서대로 이루어 집니다. )\n",
    "\n"
   ]
  },
  {
   "cell_type": "markdown",
   "id": "bd302b63",
   "metadata": {},
   "source": [
    "---"
   ]
  },
  {
   "cell_type": "markdown",
   "id": "86c71559",
   "metadata": {},
   "source": [
    "## 해결 아이디어 - 곱하기 혹은 더하기\n",
    "\n",
    "- 대부분의 경우 `*` 연산 이 `+` 연산보다 결과 값을 크게 함\n",
    "\n",
    "- 다만 주어진 수 중에서 '0' 과 '1'일 경우, 곱하기 보다는 더하기 연산\n",
    "\n",
    "- 따라서 두 수에 대하여 연산을 수행할 때, 두 수 중에서 하나라도 1 이하인 경우 더하기 수행, 모두 2이상인 경우에는 곱하기\n",
    "\n"
   ]
  },
  {
   "cell_type": "markdown",
   "id": "7664d809",
   "metadata": {},
   "source": [
    "---"
   ]
  },
  {
   "cell_type": "markdown",
   "id": "24e5c4a5",
   "metadata": {},
   "source": [
    "## src\n",
    "\n",
    "두 수에 대하여 연산을 수행 곱셈 더하기 최대 구하기에서 조건 검사는 양쪽 A and B and result 모두 해야 함\n",
    "\n",
    "1. 0 이거나 1이면 더한다.\n",
    "\n",
    "2. result가 0이거나 1이여도 그냥 더한다.\n",
    "\n",
    "\n",
    "01234 : +0+1*2*3*4\n",
    "\n",
    "10234 : 1+0*2*3*4 / 1+0+2*384\n",
    "\n",
    "\n"
   ]
  },
  {
   "cell_type": "markdown",
   "id": "25864294",
   "metadata": {},
   "source": [
    "---"
   ]
  },
  {
   "cell_type": "code",
   "execution_count": 1,
   "id": "62f7ad5d",
   "metadata": {},
   "outputs": [
    {
     "name": "stdout",
     "output_type": "stream",
     "text": [
      "10234\n",
      "36\n"
     ]
    }
   ],
   "source": [
    "string = input()\n",
    "\n",
    "result = 0\n",
    "\n",
    "for c in string:\n",
    "    \n",
    "    c = int(c)\n",
    "    \n",
    "    if c == 0 or c == 1 or result == 0 or result == 1:\n",
    "        result += c\n",
    "        \n",
    "    else:\n",
    "        result *= c\n",
    "        \n",
    "print(result)"
   ]
  },
  {
   "cell_type": "markdown",
   "id": "0842f9ec",
   "metadata": {},
   "source": [
    "---"
   ]
  }
 ],
 "metadata": {
  "kernelspec": {
   "display_name": "Python 3 (ipykernel)",
   "language": "python",
   "name": "python3"
  },
  "language_info": {
   "codemirror_mode": {
    "name": "ipython",
    "version": 3
   },
   "file_extension": ".py",
   "mimetype": "text/x-python",
   "name": "python",
   "nbconvert_exporter": "python",
   "pygments_lexer": "ipython3",
   "version": "3.8.16"
  },
  "toc": {
   "base_numbering": 1,
   "nav_menu": {},
   "number_sections": true,
   "sideBar": true,
   "skip_h1_title": false,
   "title_cell": "Table of Contents",
   "title_sidebar": "Contents",
   "toc_cell": false,
   "toc_position": {},
   "toc_section_display": true,
   "toc_window_display": false
  },
  "varInspector": {
   "cols": {
    "lenName": 16,
    "lenType": 16,
    "lenVar": 40
   },
   "kernels_config": {
    "python": {
     "delete_cmd_postfix": "",
     "delete_cmd_prefix": "del ",
     "library": "var_list.py",
     "varRefreshCmd": "print(var_dic_list())"
    },
    "r": {
     "delete_cmd_postfix": ") ",
     "delete_cmd_prefix": "rm(",
     "library": "var_list.r",
     "varRefreshCmd": "cat(var_dic_list()) "
    }
   },
   "types_to_exclude": [
    "module",
    "function",
    "builtin_function_or_method",
    "instance",
    "_Feature"
   ],
   "window_display": false
  }
 },
 "nbformat": 4,
 "nbformat_minor": 5
}
